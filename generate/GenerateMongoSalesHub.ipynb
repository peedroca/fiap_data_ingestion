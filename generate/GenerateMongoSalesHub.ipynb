{
 "cells": [
  {
   "cell_type": "markdown",
   "id": "c7773538-8402-4b5f-9b42-c3631ca93709",
   "metadata": {},
   "source": [
    "# Generating Mongo SalesHub Data"
   ]
  },
  {
   "cell_type": "code",
   "execution_count": null,
   "id": "bcc11833-82df-40ca-bee7-cd7f5d034bdb",
   "metadata": {},
   "outputs": [],
   "source": [
    "import pandas as pd\n",
    "import numpy as np\n",
    "import json\n",
    "import random\n",
    "from datetime import datetime"
   ]
  },
  {
   "cell_type": "code",
   "execution_count": null,
   "id": "11b09767-22d6-43eb-bd80-f5ee1827fdea",
   "metadata": {},
   "outputs": [],
   "source": [
    "people = pd.read_json(\"data/people.json\")\n",
    "people.columns"
   ]
  },
  {
   "cell_type": "code",
   "execution_count": null,
   "id": "3edabb13-7cc3-40e4-b289-58ab5b0d4d18",
   "metadata": {},
   "outputs": [],
   "source": [
    "data_customers = []\n",
    "for idx in range(len(people)):\n",
    "    data_customers.append({ \n",
    "        'name': people.nome[idx], \n",
    "        'address': people.endereco[idx], \n",
    "        'cep': people.cep[idx],\n",
    "        'email': people.email[idx],\n",
    "        'phone': people.celular[idx],\n",
    "        'register_date': datetime.now().strftime('%Y-%m-%d %H:%M:%S'),\n",
    "        'Active': 1\n",
    "    })\n",
    "\n",
    "print('use SalesHubDB;\\n')\n",
    "for d in data_customers:\n",
    "    insert_statement = 'db.Customers.insertOne({});\\n'\n",
    "    print(insert_statement.format(d))"
   ]
  },
  {
   "cell_type": "code",
   "execution_count": null,
   "id": "4e75c048-b0e4-4db7-bdc9-14a6b690b78d",
   "metadata": {},
   "outputs": [],
   "source": [
    "data_orders = []\n",
    "for idx in range(len(data)):\n",
    "    data_orders.append({ \n",
    "        'customer': data_customers[random.randint(0, 19)], \n",
    "        'address': people.endereco[idx], \n",
    "        'cep': people.cep[idx],\n",
    "        'register_date': datetime.now().strftime('%Y-%m-%d %H:%M:%S'),\n",
    "        'Active': 1\n",
    "    })\n",
    "\n",
    "print('use SalesHubDB;\\n')\n",
    "for d in data_orders:\n",
    "    insert_statement = 'db.Orders.insertOne({});\\n'\n",
    "    print(insert_statement.format(d))"
   ]
  },
  {
   "cell_type": "code",
   "execution_count": null,
   "id": "e5a0bb39-0176-42de-8409-8a386e044f5f",
   "metadata": {},
   "outputs": [],
   "source": [
    "products = pd.read_json('data/products.json').head(20)\n",
    "products.columns"
   ]
  },
  {
   "cell_type": "code",
   "execution_count": null,
   "id": "1161f9ab-d354-434f-a7a2-37ce9088a8b0",
   "metadata": {},
   "outputs": [],
   "source": [
    "colors_available = np.array([\"Red\", \"Orange\", \"Yellow\", \"Green\", \"Blue\", \"Indigo\", \"Violet\", \"Pink\", \"Black\", \"White\"])\n",
    "sizes_available = np.array([\"Small\", \"Medium\", \"Large\"])\n",
    "\n",
    "get_colors = lambda: list(colors_available[[random.random() < 0.3 for n in range(len(colors_available))]])\n",
    "get_sizes = lambda: list(sizes_available[[random.random() < 0.3 for n in range(len(sizes_available))]])"
   ]
  },
  {
   "cell_type": "code",
   "execution_count": null,
   "id": "aede6cf0-20f0-498b-96af-c2eafbb9d170",
   "metadata": {},
   "outputs": [],
   "source": [
    "data_products = []\n",
    "for idx in range(len(products)):\n",
    "    data_products.append({ \n",
    "        'code': products.code[idx], \n",
    "        'name': products.name[idx], \n",
    "        'model': products.model[idx], \n",
    "        'manufacturer': products.manufacturer[idx], \n",
    "        'color': get_colors(),\n",
    "        'sizes': get_sizes(),\n",
    "        'register_date': datetime.now().strftime('%Y-%m-%d %H:%M:%S'),\n",
    "        'Active': 1\n",
    "    })\n",
    "\n",
    "print('use SalesHubDB;\\n')\n",
    "for d in data_products:\n",
    "    insert_statement = 'db.Products.insertOne({});\\n'\n",
    "    print(insert_statement.format(d))"
   ]
  }
 ],
 "metadata": {
  "kernelspec": {
   "display_name": "Python 3 (ipykernel)",
   "language": "python",
   "name": "python3"
  },
  "language_info": {
   "codemirror_mode": {
    "name": "ipython",
    "version": 3
   },
   "file_extension": ".py",
   "mimetype": "text/x-python",
   "name": "python",
   "nbconvert_exporter": "python",
   "pygments_lexer": "ipython3",
   "version": "3.10.9"
  }
 },
 "nbformat": 4,
 "nbformat_minor": 5
}
